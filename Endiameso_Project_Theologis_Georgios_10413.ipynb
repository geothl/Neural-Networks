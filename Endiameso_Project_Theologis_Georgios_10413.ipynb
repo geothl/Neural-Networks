{
 "cells": [
  {
   "cell_type": "markdown",
   "id": "dbc31f7a",
   "metadata": {},
   "source": [
    "# Ενδίαμεση Εργασία\n",
    "\n",
    "### Θεολόγης Γεώργιος , ΑΕΜ:10413 \n",
    "\n",
    "### email: gtheolog@ece.auth.gr\n",
    "\n",
    "### Τμήμα Ηλεκτρολόγων Μηχανικών και Μηχανικών Υπολογιστών\n",
    "\n",
    "Αντικείμενο της παρούσας εργασίας είναι η ανάπτυξη αλγορίθμων ταξινόμησης και η σύγκριση της απόδοσης τους πάνω σε ένα dataset δεδομένων.\n",
    "\n",
    "Συγκεκριμένα υλοποιήθηκαν :\n",
    "\n",
    "* Kατηγοριοποιητής πλησιέστερου γείτονα με 1 πλησιέστερο γείτονα (Nearest Neighbor k=1)\n",
    "* Kατηγοριοποιητής πλησιέστερου γείτονα με 3 πλησιέστερους γείτονες (Nearest Neighbor k=3)\n",
    "* Κατηγοριοποιητή πλησιέστερου κέντρου κλάσης (Nearest Class Centroid)\n",
    "\n",
    "Ο κώδικας υλοποιήθηκε έχοντας ως βάση τα tensor της βιβλιοθήκης torch. Με την χρήση των tensor μπορούμε να πραγματοποίησουμε της απαιτούμενες πράξεις στην GPU του υπολογιστή μας και συνεπώς να μειώσουμε τον χρόνο εκτέλλεσης παραλληλοποιόντας την διαδικασία.\n",
    "\n",
    "Ως μέτρο σύγκρισης της ορθότητας των αλγορίθμων που αναπτύχθηκαν χρησιμοποιήθηκαν οι έτοιμοι αλγόριθμοι της sklearn. \n",
    "\n",
    "Η εφαρμογή των αλγορίθμων έγινε σε 2 βάσεις δεδομένων:\n",
    "\n",
    "* CIFAR-10\n",
    "* Stellar Classification Dataset - SDSS17\n"
   ]
  },
  {
   "cell_type": "markdown",
   "id": "2b211a2c",
   "metadata": {},
   "source": [
    "# Βιβλιοθήκες και Εργαλεία"
   ]
  },
  {
   "cell_type": "code",
   "execution_count": 65,
   "id": "00f1277b-842a-47e4-a390-2ca22fa23575",
   "metadata": {},
   "outputs": [
    {
     "name": "stdout",
     "output_type": "stream",
     "text": [
      "Using device: cuda\n"
     ]
    }
   ],
   "source": [
    "#Χρήσιμες βιβλιοθηκές και εργαλεία\n",
    "import numpy as np    #Για υπολογισμούς και συμβατότητα με την sklearn\n",
    "import matplotlib.pyplot as plt \n",
    "import torch  #χρήση Tensors και δυνατότητα πράξεων με Tensors στην GPU\n",
    "import pandas as pd #Χρηση Dataframes\n",
    "from sklearn.model_selection import train_test_split #Για εύκολη κατάτμηση του Dataset\n",
    "from sklearn.preprocessing import LabelEncoder    #Για γρήγορη αντιστοιχίση string labels σε αριθμητικά\n",
    "from sklearn.neighbors import KNeighborsClassifier  #Αλγόριθμος k-ΝΝ της sklearn\n",
    "from sklearn.neighbors import NearestCentroid  #Αλγόριθμος Nearest Centroid της sklearn\n",
    "from sklearn.metrics import accuracy_score    #Αλγόριθμος για ποσοστό επιτυχίας της ταξινόμησης των testing data απο τον ταξινομητή της sklearn\n",
    "from sklearn.decomposition import PCA   #Principal Component Analysis της sklearn\n",
    "from sklearn.preprocessing import StandardScaler #Για γρήγορο scaling των δεδομένων της βάσης βοηθάει στην καλλήτερη εφαρμογή του PCA\n",
    "\n",
    "#Ελέγχουμε ότι μπορούμε να χρησιμοποιήσουμε την GPU \n",
    "device = \"cuda\" if torch.cuda.is_available() else \"cpu\"\n",
    "print(f\"Using device: {device}\")\n",
    "\n",
    "\n"
   ]
  },
  {
   "cell_type": "markdown",
   "id": "82ff77e5",
   "metadata": {},
   "source": [
    "# Κώδικας Ταξινομητών"
   ]
  },
  {
   "cell_type": "markdown",
   "id": "db0bb558",
   "metadata": {},
   "source": [
    "### Συνάρτηση για υπολογισμό ευκλείδιας απόστασης"
   ]
  },
  {
   "cell_type": "code",
   "execution_count": 66,
   "id": "6fd0de5f-f940-4057-9375-16c241a87397",
   "metadata": {},
   "outputs": [],
   "source": [
    "def distance(x1,x2):\n",
    "    dist = torch.sqrt(torch.sum(torch.square(x1 - x2), dim=1)) \n",
    "    return dist\n",
    "    "
   ]
  },
  {
   "cell_type": "markdown",
   "id": "60aa18a9",
   "metadata": {},
   "source": [
    "### Κλάση για υλοποιήση της λειτουργίας του ταξινομητή πλησιέστερου γείτονα για k πλησιέστερους γείτονες"
   ]
  },
  {
   "cell_type": "code",
   "execution_count": 67,
   "id": "23ba7a3c",
   "metadata": {},
   "outputs": [],
   "source": [
    "class k_NN_class:\n",
    "    def __init__(self,k,dev):\n",
    "        self.k=k\n",
    "        self.label_indent=[]\n",
    "        self.device=dev\n",
    "\n",
    "    def train(self,xtrain,ltrain):\n",
    "        self.xtrain=xtrain.to(self.device)\n",
    "        self.ltrain=ltrain.to(self.device)\n",
    "\n",
    "    def identify(self,xtest):\n",
    "        for i in range(len(xtest)):\n",
    "            dis_tensor=distance(xtest[i],self.xtrain)\n",
    "            sorted_indexes=torch.argsort(dis_tensor)\n",
    "            minimum_label_indexes=self.ltrain[sorted_indexes[:self.k]]\n",
    "            unique_elements, counts = torch.unique(minimum_label_indexes, return_counts=True)\n",
    "            index_of_label= unique_elements[torch.argmax(counts).item()].item()\n",
    "            self.label_indent.append(index_of_label)\n",
    "        return self.label_indent  \n",
    "    \n",
    "    def accuracy(self,label_test):\n",
    "        arr_of_error=torch.tensor(self.label_indent).to(self.device)-label_test\n",
    "        num_zeros = torch.count_nonzero(arr_of_error==0)\n",
    "        accuracy=num_zeros/len(label_test)*100\n",
    "        return accuracy\n"
   ]
  },
  {
   "cell_type": "markdown",
   "id": "bc3c9529",
   "metadata": {},
   "source": [
    "Αρχικά απαιτείται η αρχικοποιήση της παραμέτρου του πλήθους πλησιέστερων γειτόνων k που λαμβάνονται υπόψιν από τον αλγόριθμο καθώς και η συσκεύη που θα πραγματοποιήθουν οι πράξεις μεταξύ των δεδομένων.\n",
    "\n",
    "Επείτα πραγματοποιείται η εκπαίδευση με την χρήση της  **self.train(self,xtrain,ltrain)** η οποία για αυτόν τον ταξινομήτη απλά αποθηκεύει τα δεδομένα εκπαίδευσης.\n",
    "\n",
    "Μετά την εκπαίδευση, γίνεται η ταξινόμηση των testing data με την χρήση της  **self.identify(self,xtest)**. Πρακτικά για κάθε στοιχείο των δεδομένων ελέγχου υπολογίζεται η ευκλείδια απόσταση του από κάθε δεδομένου εκπαίδευσης. Ύστερα ταξινομούμε τις αποστάσεις ώστε να βρούμε τα k (1 η 3) index (σείρα στον tensor) των δεδομένων εκπαίδευσης που απέχουν την ελάχιστη απόσταση από το συγκεκρίμενο δεδομένου ελέγχου. Επείτα διαλέγουμε το πιο σύχνο label από τα k (αν k=1 θα είναι το ελάχιστο) και ταξινομούμε το συγκεκριμένο δεδομένο εκπαίδευσης στην κλάση που αντιστοιχεί το label. Έτσι αντιστοιχείται κάθε δεδομένου ελέγχου σε κάποια κλάση ενώ δημιουργείται η λίστα label_indent που θα συγκρίθει με τα πραγματικά label των δεδομένων εκπαίδευσης για να δούμε τι πόσοστο επιτυχίας είχαμε στην ταξινόμηση.\n",
    "\n",
    "Έτσι, το πόσοστο της επιτυχίας προσδιορίζεται από την **self.accuracy(self,label_test)** \n"
   ]
  },
  {
   "cell_type": "code",
   "execution_count": 68,
   "id": "ed6f06c9",
   "metadata": {},
   "outputs": [],
   "source": [
    "class centroid_NN_class:\n",
    "    def __init__(self,dev):\n",
    "        self.label_indent=[]\n",
    "        self.device=dev\n",
    "        self.data_centroid=[]\n",
    "        self.label_centroid=[]\n",
    "\n",
    "\n",
    "    def train(self,xtrain,ltrain):\n",
    "        unique_value = torch.unique(ltrain)\n",
    "        for value in unique_value :\n",
    "            indexes_of_value=torch.where(ltrain == value)[0]\n",
    "            mean_of_class = xtrain[indexes_of_value].mean(dim=0)\n",
    "            self.data_centroid.append(mean_of_class.tolist())\n",
    "            self.label_centroid.append(value)\n",
    "        self.data_centroid=torch.tensor(self.data_centroid).to(self.device)\n",
    "        self.label_centroid=torch.tensor(self.label_centroid).to(self.device)\n",
    "\n",
    "    def identify(self,xtest):\n",
    "        for i in range(len(xtest)):\n",
    "            dis_tensor=distance(xtest[i],self.data_centroid)\n",
    "            sorted_indexes=torch.argsort(dis_tensor)\n",
    "            index_of_min=(torch.argmin(dis_tensor)).item()\n",
    "            tes_i=self.label_centroid[index_of_min]\n",
    "            self.label_indent.append(tes_i.item())\n",
    "        return self.label_indent  \n",
    "    \n",
    "    def accuracy(self,label_test):\n",
    "        arr_of_error=torch.tensor(self.label_indent).to(self.device)-label_test\n",
    "        num_zeros = torch.count_nonzero(arr_of_error==0)\n",
    "        accuracy=num_zeros/len(label_test)*100\n",
    "        return accuracy"
   ]
  },
  {
   "cell_type": "markdown",
   "id": "ebb84430",
   "metadata": {},
   "source": [
    "Η λογική στον ταξινόμητη πλησίεστερου κέντρου κλάσης είναι παρόμοια με αυτήν του k πλησιέστερου γείτονα. \n",
    "Απλά κατά την διαδικασία εκπαίδευσης υπολογίζεται η μέση τιμή ολών των features των δεδομένων εκπαίδευσης ανά κλάση. Έτσι παίρνουμε ένα διάνυσμα γνωρισμάτων για κάθε κλάση (το κέντρο της κλάσης). Στην διαδικασία ταξινόμησης (identify-predict) το δεδομένο ελέγχου αντιστοιχίζεται στο πλησιέστερο κέντρο κλάσης.\n",
    "\n",
    "Στη συνέχεια υπολογίζεται ξανά το ποσοστό επιτυχίας στην ταξινόμηση.\n",
    "\n",
    "Η συνάρτηση **my_classification_algorithms** που ορίζεται παρακάτω χρησιμοποιείται για να εκτελέσει και τους 3 αλγόριθμους ταξινόμησης που υλοποιήθηκαν παραπάνω και για να μας δώσει το πόσοστο ακρίβειας τους ως προς την ταξινόμηση."
   ]
  },
  {
   "cell_type": "code",
   "execution_count": 69,
   "id": "91c4ece6-046c-4de8-b6d1-e9f469f0129f",
   "metadata": {},
   "outputs": [],
   "source": [
    "def my_classification_algorithms(device,data_train,data_test,label_train,label_test):\n",
    "    #Ταξινομητής πλησιέστερου γείτονα με k=1 άμεσα εφαρμοσμένο στις εικόνες\n",
    "    torch.cuda.empty_cache() #empty cache\n",
    "    k_1_NN=k_NN_class(1,device)\n",
    "    k_1_NN.train(data_train,label_train)\n",
    "    label_i=k_1_NN.identify(data_test.to(device))\n",
    "    accuracy=k_1_NN.accuracy(label_test.to(device)).item()\n",
    "    print(f\"Accuracy of Nearest-Neighbour k=1 classification: {accuracy:.2f}%\")\n",
    "\n",
    "    #Ταξινομητής πλησιέστερου γείτονα με k=3 άμεσα εφαρμοσμένο στις εικόνες\n",
    "    torch.cuda.empty_cache()\n",
    "    k_3_NN=k_NN_class(3,device)\n",
    "    k_3_NN.train(data_train,label_train)\n",
    "    label_i=k_3_NN.identify(data_test.to(device))\n",
    "    accuracy=k_3_NN.accuracy(label_test.to(device)).item()\n",
    "    print(f\"Accuracy of Nearest Neighbour k=3 classification: {accuracy:.2f}%\")\n",
    "\n",
    "    #Ταξινομητής πλησιέστερου κένρου άμεσα εφαρμοσμένο στις εικόνες\n",
    "    torch.cuda.empty_cache()\n",
    "    nearest_centroid=centroid_NN_class(\"cuda\") \n",
    "    nearest_centroid.train(data_train,label_train)\n",
    "    label_i=nearest_centroid.identify(data_test.to(device))\n",
    "    accuracy=nearest_centroid.accuracy(label_test.to(device)).item()\n",
    "    print(f\"Accuracy of Nearest Centroid classification: {accuracy:.2f}%\")"
   ]
  },
  {
   "cell_type": "markdown",
   "id": "f40f17ef",
   "metadata": {},
   "source": [
    "Αντίστοιχα η συνάρτηση που κάνει το ίδιο με τους έτοιμους αλγορίθμους της sklearn:"
   ]
  },
  {
   "cell_type": "code",
   "execution_count": 70,
   "id": "0820f26a-a36e-4578-a731-819aa6b628f4",
   "metadata": {},
   "outputs": [],
   "source": [
    "def sklearn_classifiers(data_train,data_test,label_train,label_test):\n",
    "    #####K-Nearest Neighbors classifier with k=1\n",
    "    knn_1 = KNeighborsClassifier(n_neighbors=1,metric='euclidean')\n",
    "\n",
    "    # Train with the training data\n",
    "    knn_1.fit(data_train, label_train)\n",
    "\n",
    "    # Predict test set label\n",
    "    label_pred= knn_1.predict(data_test)\n",
    "\n",
    "    # Calculate the accuracy of classification\n",
    "    accuracy = accuracy_score(label_test, label_pred)\n",
    "    print(f\"Accuracy of Nearest-Neighbour k=1 classification:  {accuracy * 100:.2f}%\")\n",
    "\n",
    "    ######K-Nearest Neighbors classifier with k=3\n",
    "    knn_3 = KNeighborsClassifier(n_neighbors=3,metric='euclidean')\n",
    "\n",
    "    # Train with the training data\n",
    "    knn_3.fit(data_train, label_train)\n",
    "\n",
    "    # Predict test set label\n",
    "    label_pred= knn_3.predict(data_test)\n",
    "\n",
    "    # Calculate the accuracy of classification\n",
    "    accuracy = accuracy_score(label_test, label_pred)\n",
    "    print(f\"Accuracy of Nearest-Neighbour k=3 classification:  {accuracy * 100:.2f}%\")\n",
    "\n",
    "    #####Nearest Centroid\n",
    "    clf = NearestCentroid()\n",
    "    # Train with the training data\n",
    "    clf.fit(data_train, label_train)\n",
    "    # Predict on the test set\n",
    "    label_pred = clf.predict(data_test)\n",
    "\n",
    "    # Evaluate accuracy\n",
    "    accuracy = accuracy_score(label_test, label_pred)\n",
    "    print(f\"Accuracy of Nearest Centorid classification:  {accuracy * 100:.2f}%\")\n",
    "\n",
    "\n"
   ]
  },
  {
   "cell_type": "markdown",
   "id": "07e005e0",
   "metadata": {},
   "source": [
    "## Εισαγωγή της βάσης δεδομένων CIFAR-10"
   ]
  },
  {
   "cell_type": "markdown",
   "id": "0b89e429",
   "metadata": {},
   "source": [
    "Αρχικά θα ελέγξουμε τους αλγορίθμους που αναπτύχθηκαν στην βάση δεδομένων cifar-10. Μπορούμε να την βρούμε στην σελίδα: https://www.cs.toronto.edu/~kriz/cifar.html\n",
    "\n",
    "Αυτή η βάση δεδομένων περιέχει εικόνες που αντιστοιχούν σε 10 κλάσεις οντοτήτων (airplane,automobile,bird,cat,deer,dog,frog,horse,ship,truck)\n",
    "Τα labels των δεδομένων έχουν αντιστοιχίσει την κάθε τάξη σε ένα νούμερο από 0-9.\n",
    "Τα data δεδομένα περιέχουν 60000 εικόνες , 6000 για κάθε κλάση. Κάθε εικόνα έχει μέγεθος 3072 (32*32=1024 pixels και 3 color channels).\n",
    "\n",
    "Ακολουθεί η εισαγωή των δεδομένων των εικονών (data) και των ετικετών τους (labels):"
   ]
  },
  {
   "cell_type": "code",
   "execution_count": 71,
   "id": "e3636e1d-729c-4dc9-9845-a6bb56e793dd",
   "metadata": {},
   "outputs": [],
   "source": [
    "def unpickle(file): #ανάγνωση των αρχείων\n",
    "    import pickle\n",
    "    with open(file, 'rb') as fo:\n",
    "        dict = pickle.load(fo, encoding='bytes')\n",
    "    return dict"
   ]
  },
  {
   "cell_type": "code",
   "execution_count": 72,
   "id": "3a1dd4c4-36b4-4f86-856d-d8534de415d2",
   "metadata": {},
   "outputs": [],
   "source": [
    "\n",
    "dt1=unpickle(\"C:\\\\CIFAR\\\\cifar-10-batches-py\\\\data_batch_1\")\n",
    "dt2=unpickle(\"C:\\\\CIFAR\\\\cifar-10-batches-py\\\\data_batch_2\")\n",
    "dt3=unpickle(\"C:\\\\CIFAR\\\\cifar-10-batches-py\\\\data_batch_3\")\n",
    "dt4=unpickle(\"C:\\\\CIFAR\\\\cifar-10-batches-py\\\\data_batch_4\")\n",
    "dt5=unpickle(\"C:\\\\CIFAR\\\\cifar-10-batches-py\\\\data_batch_5\")\n",
    "dtest=unpickle(\"C:\\\\CIFAR\\\\cifar-10-batches-py\\\\test_batch\")"
   ]
  },
  {
   "cell_type": "code",
   "execution_count": 73,
   "id": "4bae7639",
   "metadata": {},
   "outputs": [],
   "source": [
    "#εισαγωγή των δεδομένων σε μορφή tensor. Εύκολα μπορούν να μετασχηματιστούν στην συνέχεια σε Numpy arrays.\n",
    "data_train_cifar10= torch.cat((torch.tensor(dt1[b'data'], dtype=torch.float32),torch.tensor(dt2[b'data'], dtype=torch.float32),torch.tensor(dt3[b'data'], dtype=torch.float32),torch.tensor(dt4[b'data'], dtype=torch.float32),torch.tensor(dt5[b'data'], dtype=torch.float32)), dim=0)\n",
    "label_train_cifar10=torch.cat((torch.tensor(dt1[b'labels'], dtype=torch.float32),torch.tensor(dt2[b'labels'], dtype=torch.float32),torch.tensor(dt3[b'labels'], dtype=torch.float32),torch.tensor(dt4[b'labels'], dtype=torch.float32),torch.tensor(dt5[b'labels'], dtype=torch.float32)), dim=0)\n",
    "\n",
    "data_test_cifar10=torch.tensor(dtest[b'data'], dtype=torch.float32)\n",
    "label_test_cifar10=torch.tensor(dtest[b'labels'], dtype=torch.float32)\n"
   ]
  },
  {
   "cell_type": "markdown",
   "id": "c2a34d01",
   "metadata": {},
   "source": [
    "Τα training data αποτελούνται απο 50000 εικόνες. \n",
    "\n",
    "Τα testing data αποτελούνται απο 10000 εικόνες. "
   ]
  },
  {
   "cell_type": "code",
   "execution_count": 94,
   "id": "128308a4",
   "metadata": {},
   "outputs": [],
   "source": [
    "#Εισαγωγή των εικόνων και των ετικετών στα placeholder ονόματα που θα χρησιμοποιήθουν για λόγους αντιστοιχίας και στην υπόλοιπη εργασία:\n",
    "data_train=data_train_cifar10\n",
    "label_train=label_train_cifar10\n",
    "data_test=data_test_cifar10\n",
    "label_test=label_test_cifar10"
   ]
  },
  {
   "cell_type": "markdown",
   "id": "80605691",
   "metadata": {},
   "source": [
    "## Απόδοση των ταξινόμητων σε άμεση εφαρμογή στις εικόνες"
   ]
  },
  {
   "cell_type": "markdown",
   "id": "d926dcba",
   "metadata": {},
   "source": [
    "Αρχικά θα δούμε την απόδοση των ταξινόμητων σε άμεση εφαρμογή πάνω στις εικόνες της βάσης δεδομένων. Δηλαδή ώς στοιχείο της εκπαίδευσης και ελέγχου είναι ένα διάνυσμα **3072** τιμών-γνωρισμάτων.\n",
    "\n",
    "Τα πρώτα 32*32=1024 γνωρίσματα αναφέρονται στο red του RGB κώδικα, τα επόμενα 1024 στο green, και τα τελευταία 1024 στο blue."
   ]
  },
  {
   "cell_type": "code",
   "execution_count": 75,
   "id": "845052cb",
   "metadata": {},
   "outputs": [
    {
     "name": "stdout",
     "output_type": "stream",
     "text": [
      "Classification algorithms that were implemented with all features:\n",
      "Accuracy of Nearest-Neighbour k=1 classification: 35.39%\n",
      "Accuracy of Nearest Neighbour k=3 classification: 33.03%\n",
      "Accuracy of Nearest Centroid classification: 27.74%\n"
     ]
    }
   ],
   "source": [
    "print(\"Classification algorithms that were implemented with all features:\")\n",
    "my_classification_algorithms(device,data_train,data_test,label_train,label_test)"
   ]
  },
  {
   "cell_type": "markdown",
   "id": "1ffa4d20",
   "metadata": {},
   "source": [
    "Από ότι βλέπουμε η απόδοση των αλγορίθμων ταξινόμησης είναι σχετικά μικρή καθώς αυτή η άμεση εφαρμογή τους μας δίνει για κάθε αλγόριθμο τις εξής επιτυχίες ταξινόμισης:\n",
    "\n",
    "**1-nn**:35.39 %\n",
    "\n",
    " **3-nn**:33.03 % \n",
    " \n",
    " **centroid**: 27.74%  \n",
    "\n",
    "\n",
    "Όλες αυτές είναι κάτω του 40 %. Τα αποτελέσμα αυτό είναι διαισθητικά λογικό καθώς κάθενα γνώρισμα από τα 3072 χρησιμοποιούμενα δεν είναι παρά μία ένδειξη χρώματος RGB για ένα pixel μόνο της εικόνας. Αυτή η αναπαράσταση λοιπόν των γνωρισμάτων δεν μπορεί να φέρει κάποια άμεση πληροφορία σχετικά με την κλάση που αντιστοιχεί στην εικόνα και επομένως τα ποσοστά επιτυχούς ταξινόμησης παραμένουν αρκετά χαμηλά. \n",
    "\n",
    "Μεταξύ των 3 αλγορίθμων , οι αλγόριθμοι του πλησιέστερου γείτονα παρουσίαζουν καλύτερη απόδοση απο τον πλησιέστερου κέντρου κλάσης. Αυτό είναι αρκετά λογικό καθώς στον πλησιέστερο γείτονα μία εικόνα ελέγχου μπορεί να συγκριθεί με εικόνες που ως προς τα RGB γνωρίσματα ανα pixel να είναι ποίο κοντά σε κάποια άλλη εικόνα της ίδιας κλάσης του συνόλου εκπαίδευσης από οτί θα ήταν στον μέσο όρο όλων των εικονών της κλάσης.  \n",
    "\n",
    "Θα συνεχίσουμε με την προ-επεξεργασία της εικόνας με σκοπό να βγάλουμε καλύτερα αποτελέσματα. "
   ]
  },
  {
   "cell_type": "markdown",
   "id": "94a37a42",
   "metadata": {},
   "source": [
    "Παρατείθεται και η απόδοση που δίνουν οι αλγόριθμοι της sklearn:"
   ]
  },
  {
   "cell_type": "code",
   "execution_count": 76,
   "id": "02b9bf85",
   "metadata": {},
   "outputs": [
    {
     "name": "stdout",
     "output_type": "stream",
     "text": [
      "Classification algorithms of sklearn:\n",
      "Accuracy of Nearest-Neighbour k=1 classification:  35.39%\n",
      "Accuracy of Nearest-Neighbour k=3 classification:  33.03%\n",
      "Accuracy of Nearest Centorid classification:  27.74%\n"
     ]
    }
   ],
   "source": [
    "print(\"Classification algorithms of sklearn:\")\n",
    "sklearn_classifiers(data_train.numpy(),data_test.numpy(),label_train.numpy(),label_test.numpy())"
   ]
  },
  {
   "cell_type": "markdown",
   "id": "a8cf55f8",
   "metadata": {},
   "source": [
    "## Χρήση PCA (Principal Component Analysis) \n"
   ]
  },
  {
   "cell_type": "markdown",
   "id": "869ca706",
   "metadata": {},
   "source": [
    "Με την Ανάλυση Κύριων Συνιστωσών (PCA) μπορούμε να προ-επεξεργαστούμε τις εικόνες κατάλληλα ώστε να μειώσουμε την διάσταση των γνωρισμάτων των συνόλων εκπαίδευσης και ελέγχου. Η μείωση αυτή της διάστασης των γνωρισμάτων των δεδομένων τα βάση των οποίων θα ταξινομήσουμε τις εικόνες μας συμφέρει αρκετά καθώς μειώνεται το πλήθος των υπολογισμών και η πολυπλοκότητα στην ταξινόμηση. Επίσης κατά αυτήν την διαδικασία κάθε γνώρισμα που προκύπτει τείνει να είναι γραμμικά ασυσχέτιστο από τα άλλα και να συγκεντρώνει μεγαλύτερη ποσότητα χρήσιμης πληροφορίας δημιουργώντας ένα πιο ουσιαστικό feature space.\n",
    "\n",
    "Θα χρησιμοποιήσουμε τις έτοιμες κλάσεις StandardScaler και PCA για να κανονικοποίση των δεδομένων (μέση τιμή=0 και τυπική απόκλιση=1) και ανάλυση κυριών συνιστωσών αντίστοιχα."
   ]
  },
  {
   "cell_type": "code",
   "execution_count": 95,
   "id": "917dc8b6",
   "metadata": {},
   "outputs": [],
   "source": [
    "scaler = StandardScaler()\n",
    "pca = PCA(n_components=50)  # Reduce to 50 principal components\n",
    "\n",
    "data_train_np=data_train.numpy().astype(np.float32)\n",
    "data_train_scaled = scaler.fit_transform(data_train_np)\n",
    "data_train_pca = pca.fit_transform(data_train_scaled)\n",
    "\n",
    "data_test_np=data_test.numpy().astype(np.float32)\n",
    "data_test_scaled = scaler.transform(data_test_np)\n",
    "data_test_pca = pca.transform(data_test_scaled)\n",
    "\n",
    "data_train_pca=torch.from_numpy(data_train_pca).to(torch.float32)\n",
    "data_test_pca=torch.from_numpy(data_test_pca).to(torch.float32)\n"
   ]
  },
  {
   "cell_type": "markdown",
   "id": "71dbcad1",
   "metadata": {},
   "source": [
    "Ακολουθεί η εφαρμογή των αλγορίθμων ταξινόμησης πάνω στα data:"
   ]
  },
  {
   "cell_type": "code",
   "execution_count": 96,
   "id": "36b35357",
   "metadata": {},
   "outputs": [
    {
     "name": "stdout",
     "output_type": "stream",
     "text": [
      "Classification algorithms that were implemented with all features:\n",
      "Accuracy of Nearest-Neighbour k=1 classification: 38.94%\n",
      "Accuracy of Nearest Neighbour k=3 classification: 38.11%\n",
      "Accuracy of Nearest Centroid classification: 27.95%\n"
     ]
    }
   ],
   "source": [
    "print(\"Classification algorithms that were implemented with all features:\")\n",
    "my_classification_algorithms(device,data_train_pca,data_test_pca,label_train,label_test)"
   ]
  },
  {
   "cell_type": "markdown",
   "id": "2f4d15f3",
   "metadata": {},
   "source": [
    "Παρατηρούμε ότι είχαμε μιά μικρή αύξηση του ποσοστού επιτυχίας και για τους τρείς αλγορίθμους. Ώστοσο, καθώς το ποσοστό επιτυχίας και για τα τρία παραμένει κάτω απο 40 % βλέπουμε ότι οι κύριες συνιστώσες που δημιουρήθηκαν δεν έφεραν πολύ πιο σημαντική και διακριτή πληροφορία ως προς τις κλάσεις σε σχέση με πριν την εφαρμογή του pca.\n",
    "\n",
    "Για την πιο αποτελεσματική ταξινόμηση των εικονών καλό είναι τα γνωρίσματα να φέρουν πληροφορία άμεσα σχετιζόμενη με το αντικείμενο της κλάσης και όχι απλά πληροφορία RGB ανά pixel. Για παράδειγμα ένας edge detector που θα διακρίνει τις ακμές του αντικειμένου της εικόνας να δώσει καλύτερα features βάση των οποίων θα πραγματοποιηθεί η ταξινόμηση της εικόνας. "
   ]
  },
  {
   "cell_type": "markdown",
   "id": "69f57af0",
   "metadata": {},
   "source": [
    "Από τα παραπάνω μπορoύμε να συμπεράνουμε ότι οι αλγόριθμοι nearest neighbour και nearest centroid δεν εμφανίζουν μεγάλα ποσοστά επιτυχίας ως προς την διαδικασία ταξινόμισης εικονών σε συγκεκριμένο πλήθος τάξεων. Η απόδοση τους μπορεί να αυξηθεί μετά από την κατάλληλη προεπεξεργασία των εικονών (pca,edge_detection) και προχωρημένου feature engineering.\n",
    "\n",
    "Η χρήση άλλων μοντέλων ταξινόμησης όπως ένα νευρωνικό δίκτυο ενδέχεται να αυξήσει το ποσοστό επιτυχίας της σωστής ταξινόμησης των δεδομένων της βάσης δεδομένων cifar-10.\n",
    "\n",
    "Θα γίνει με την ανάπτυξη του νευρωνικού στη συνέχεια της εργασίας απόπειρα να προσθέσουμε και άλλες μεθόδους προ-επεξεργασίας της εικόνας με την ελπίδα να βελτιώσουμε τα αποτελέσματα της ταξινόμησης που θα πραγματοποιεί το μοντέλο που θα αναπτύξουμε."
   ]
  },
  {
   "cell_type": "markdown",
   "id": "fe3ad0a7",
   "metadata": {},
   "source": [
    "Παρατείθεται και η απόδοση που δίνουν οι αλγόριθμοι της sklearn:"
   ]
  },
  {
   "cell_type": "code",
   "execution_count": 97,
   "id": "d6d6cb6d",
   "metadata": {},
   "outputs": [
    {
     "name": "stdout",
     "output_type": "stream",
     "text": [
      "Classification algorithms of sklearn with pca=50 features:\n",
      "Accuracy of Nearest-Neighbour k=1 classification:  38.94%\n",
      "Accuracy of Nearest-Neighbour k=3 classification:  38.11%\n",
      "Accuracy of Nearest Centorid classification:  27.95%\n"
     ]
    }
   ],
   "source": [
    "print(\"Classification algorithms of sklearn with pca=50 features:\")\n",
    "sklearn_classifiers(data_train_pca.numpy(),data_test_pca.numpy(),label_train.numpy(),label_test.numpy())"
   ]
  },
  {
   "cell_type": "markdown",
   "id": "c48ecb3a",
   "metadata": {},
   "source": [
    "## Εισαγωγή της βάσης δεδομένων Stellar Classification Dataset - SDSS17\n",
    "\n"
   ]
  },
  {
   "cell_type": "markdown",
   "id": "3b37ae6a",
   "metadata": {},
   "source": [
    "Η βάση αυτή περίεχει την συλλογή 100,000 παρατηρήσεων διαστημικών αντικειμένων με την χρήση του SDSS (Sloan Digital Sky Survey).\n",
    "\n",
    "Το dataset αντλήθηκε από τον εξής σύνδεσμο: https://www.kaggle.com/datasets/fedesoriano/stellar-classification-dataset-sdss17\n",
    "\n",
    "Περιλαμβάνει για κάθε αντικείμενο 17 features ενώ υπάρχουν **3 κλάσεις** στις οποίες μπορεί να αντισοιχισθεί το εκάστοτε αντικείμενο.\n",
    "Συγκεκριμένα , οι 3 κλάσεις είναι:\n",
    "* Γαλαξίας (GALAXY) \n",
    "* Αστέρι (STAR)\n",
    "* Κβάζαρ (QSO)"
   ]
  },
  {
   "cell_type": "code",
   "execution_count": 80,
   "id": "a44cb77e-b6d7-4025-aca1-38e2af8bf04f",
   "metadata": {},
   "outputs": [
    {
     "data": {
      "text/html": [
       "<div>\n",
       "<style scoped>\n",
       "    .dataframe tbody tr th:only-of-type {\n",
       "        vertical-align: middle;\n",
       "    }\n",
       "\n",
       "    .dataframe tbody tr th {\n",
       "        vertical-align: top;\n",
       "    }\n",
       "\n",
       "    .dataframe thead th {\n",
       "        text-align: right;\n",
       "    }\n",
       "</style>\n",
       "<table border=\"1\" class=\"dataframe\">\n",
       "  <thead>\n",
       "    <tr style=\"text-align: right;\">\n",
       "      <th></th>\n",
       "      <th>obj_ID</th>\n",
       "      <th>alpha</th>\n",
       "      <th>delta</th>\n",
       "      <th>u</th>\n",
       "      <th>g</th>\n",
       "      <th>r</th>\n",
       "      <th>i</th>\n",
       "      <th>z</th>\n",
       "      <th>run_ID</th>\n",
       "      <th>rerun_ID</th>\n",
       "      <th>cam_col</th>\n",
       "      <th>field_ID</th>\n",
       "      <th>spec_obj_ID</th>\n",
       "      <th>class</th>\n",
       "      <th>redshift</th>\n",
       "      <th>plate</th>\n",
       "      <th>MJD</th>\n",
       "      <th>fiber_ID</th>\n",
       "    </tr>\n",
       "  </thead>\n",
       "  <tbody>\n",
       "    <tr>\n",
       "      <th>0</th>\n",
       "      <td>1.237661e+18</td>\n",
       "      <td>135.689107</td>\n",
       "      <td>32.494632</td>\n",
       "      <td>23.87882</td>\n",
       "      <td>22.27530</td>\n",
       "      <td>20.39501</td>\n",
       "      <td>19.16573</td>\n",
       "      <td>18.79371</td>\n",
       "      <td>3606</td>\n",
       "      <td>301</td>\n",
       "      <td>2</td>\n",
       "      <td>79</td>\n",
       "      <td>6.543777e+18</td>\n",
       "      <td>GALAXY</td>\n",
       "      <td>0.634794</td>\n",
       "      <td>5812</td>\n",
       "      <td>56354</td>\n",
       "      <td>171</td>\n",
       "    </tr>\n",
       "    <tr>\n",
       "      <th>1</th>\n",
       "      <td>1.237665e+18</td>\n",
       "      <td>144.826101</td>\n",
       "      <td>31.274185</td>\n",
       "      <td>24.77759</td>\n",
       "      <td>22.83188</td>\n",
       "      <td>22.58444</td>\n",
       "      <td>21.16812</td>\n",
       "      <td>21.61427</td>\n",
       "      <td>4518</td>\n",
       "      <td>301</td>\n",
       "      <td>5</td>\n",
       "      <td>119</td>\n",
       "      <td>1.176014e+19</td>\n",
       "      <td>GALAXY</td>\n",
       "      <td>0.779136</td>\n",
       "      <td>10445</td>\n",
       "      <td>58158</td>\n",
       "      <td>427</td>\n",
       "    </tr>\n",
       "    <tr>\n",
       "      <th>2</th>\n",
       "      <td>1.237661e+18</td>\n",
       "      <td>142.188790</td>\n",
       "      <td>35.582444</td>\n",
       "      <td>25.26307</td>\n",
       "      <td>22.66389</td>\n",
       "      <td>20.60976</td>\n",
       "      <td>19.34857</td>\n",
       "      <td>18.94827</td>\n",
       "      <td>3606</td>\n",
       "      <td>301</td>\n",
       "      <td>2</td>\n",
       "      <td>120</td>\n",
       "      <td>5.152200e+18</td>\n",
       "      <td>GALAXY</td>\n",
       "      <td>0.644195</td>\n",
       "      <td>4576</td>\n",
       "      <td>55592</td>\n",
       "      <td>299</td>\n",
       "    </tr>\n",
       "    <tr>\n",
       "      <th>3</th>\n",
       "      <td>1.237663e+18</td>\n",
       "      <td>338.741038</td>\n",
       "      <td>-0.402828</td>\n",
       "      <td>22.13682</td>\n",
       "      <td>23.77656</td>\n",
       "      <td>21.61162</td>\n",
       "      <td>20.50454</td>\n",
       "      <td>19.25010</td>\n",
       "      <td>4192</td>\n",
       "      <td>301</td>\n",
       "      <td>3</td>\n",
       "      <td>214</td>\n",
       "      <td>1.030107e+19</td>\n",
       "      <td>GALAXY</td>\n",
       "      <td>0.932346</td>\n",
       "      <td>9149</td>\n",
       "      <td>58039</td>\n",
       "      <td>775</td>\n",
       "    </tr>\n",
       "    <tr>\n",
       "      <th>4</th>\n",
       "      <td>1.237680e+18</td>\n",
       "      <td>345.282593</td>\n",
       "      <td>21.183866</td>\n",
       "      <td>19.43718</td>\n",
       "      <td>17.58028</td>\n",
       "      <td>16.49747</td>\n",
       "      <td>15.97711</td>\n",
       "      <td>15.54461</td>\n",
       "      <td>8102</td>\n",
       "      <td>301</td>\n",
       "      <td>3</td>\n",
       "      <td>137</td>\n",
       "      <td>6.891865e+18</td>\n",
       "      <td>GALAXY</td>\n",
       "      <td>0.116123</td>\n",
       "      <td>6121</td>\n",
       "      <td>56187</td>\n",
       "      <td>842</td>\n",
       "    </tr>\n",
       "  </tbody>\n",
       "</table>\n",
       "</div>"
      ],
      "text/plain": [
       "         obj_ID       alpha      delta         u         g         r  \\\n",
       "0  1.237661e+18  135.689107  32.494632  23.87882  22.27530  20.39501   \n",
       "1  1.237665e+18  144.826101  31.274185  24.77759  22.83188  22.58444   \n",
       "2  1.237661e+18  142.188790  35.582444  25.26307  22.66389  20.60976   \n",
       "3  1.237663e+18  338.741038  -0.402828  22.13682  23.77656  21.61162   \n",
       "4  1.237680e+18  345.282593  21.183866  19.43718  17.58028  16.49747   \n",
       "\n",
       "          i         z  run_ID  rerun_ID  cam_col  field_ID   spec_obj_ID  \\\n",
       "0  19.16573  18.79371    3606       301        2        79  6.543777e+18   \n",
       "1  21.16812  21.61427    4518       301        5       119  1.176014e+19   \n",
       "2  19.34857  18.94827    3606       301        2       120  5.152200e+18   \n",
       "3  20.50454  19.25010    4192       301        3       214  1.030107e+19   \n",
       "4  15.97711  15.54461    8102       301        3       137  6.891865e+18   \n",
       "\n",
       "    class  redshift  plate    MJD  fiber_ID  \n",
       "0  GALAXY  0.634794   5812  56354       171  \n",
       "1  GALAXY  0.779136  10445  58158       427  \n",
       "2  GALAXY  0.644195   4576  55592       299  \n",
       "3  GALAXY  0.932346   9149  58039       775  \n",
       "4  GALAXY  0.116123   6121  56187       842  "
      ]
     },
     "execution_count": 80,
     "metadata": {},
     "output_type": "execute_result"
    }
   ],
   "source": [
    "data_star=pd.read_csv('C:\\\\read_data\\\\star_classification.csv')\n",
    "data_star.head() # ενδεικτική παρουσίαση των features και της κλάσης των πρώτων 5 αντικειμένων"
   ]
  },
  {
   "cell_type": "markdown",
   "id": "1801851e",
   "metadata": {},
   "source": [
    "Από αυτά τα γνωρίσματα παρατηρούμε ότι αριθμοί ID που αφορούν το μοναδικό προσδιοριστικό του αντικειμένου και των εργαλείων παρατήρησης στην βάση δεδομένων δεν δίνουν καμία πληροφορία για την ίδια την κλάση (obj_ID,spec_obj_ID,fiber_ID). Καμια πληροφορία για την κλάση δεν δίνει ούτε η θέση στον ουράνιο θόλο (alpha,delta) , όυτε η ημερομηνία της παρατήρησης αλλά και ούτε και specification του εξοπλισμού του πειράματος.\n",
    "\n",
    "Ουσιαστικό πληροφορία για τις κλάσεις πέρνουμε από τα γνωρίσματα που αφορούν μετρήσεις φωτεινότητας/ακτινοβολίας των αντικειμένων και της μετατόπιση προς το ερυθρό.\n",
    "Άρα τα γνωρίσματα-features που θα χρησιμοποιήσουμε στην ταξινόμηση είναι τα εξής:\n",
    "* u = Ultraviolet filter in the photometric system\n",
    "* g = Green filter in the photometric system\n",
    "* r = Red filter in the photometric system\n",
    "* i = Near Infrared filter in the photometric system\n",
    "* z = Infrared filter in the photometric system\n",
    "* redshift = redshift value based on the increase in wavelength\n",
    "\n"
   ]
  },
  {
   "cell_type": "code",
   "execution_count": 81,
   "id": "eea08374",
   "metadata": {},
   "outputs": [
    {
     "name": "stdout",
     "output_type": "stream",
     "text": [
      "class\n",
      "GALAXY    59445\n",
      "STAR      21594\n",
      "QSO       18961\n",
      "Name: count, dtype: int64\n"
     ]
    }
   ],
   "source": [
    "print(data_star[\"class\"].value_counts()) #print frequency of each class\n"
   ]
  },
  {
   "cell_type": "markdown",
   "id": "b21c4709",
   "metadata": {},
   "source": [
    "Άρα η πλειονότητα των στοιχείων του dataset (60%) αφορούν γαλαξίες και επείτα από 20 % πίανουν τα κβάζαρ και τα αστέρια. Συνεπώς τα δείγματα του στοιχεία του dataset δεν είναι ισομοιρασμένα όπως ήταν στο cifar-10. Ωστόσο ακόμα και στην φύση είναι δύσκολο να παρατηρήσουμε παντά ισομοιρασμό των πειραματικών δεδομένων σε ίσο αριθμό ανά κλάση. Για αυτό θα χρησιμοποιηθεί η "
   ]
  },
  {
   "cell_type": "code",
   "execution_count": 82,
   "id": "6733f86c-5b7c-494b-8196-2d8bb177988a",
   "metadata": {},
   "outputs": [
    {
     "name": "stdout",
     "output_type": "stream",
     "text": [
      "['GALAXY' 'GALAXY' 'GALAXY' ... 'GALAXY' 'GALAXY' 'GALAXY']\n",
      "[0 0 0 ... 0 0 0]\n"
     ]
    }
   ],
   "source": [
    "sdss_data=data_star.loc[:, [\"u\", \"g\",\"r\",\"i\",\"z\",\"redshift\"]].to_numpy()\n",
    "label_sdss =data_star[\"class\"].to_numpy()\n",
    "print(label_sdss )\n",
    "map_2_num = {\"GALAXY\": 0, \"STAR\": 1, \"QSO\": 2}  #κανω αντιστοιχία των string ονομάτων της κάθε κλάσης σε έναν αριθμό.\n",
    "label_sdss=np.array([map_2_num[string] for string in label_sdss]) \n",
    "print(label_sdss)"
   ]
  },
  {
   "cell_type": "markdown",
   "id": "f84ccc54",
   "metadata": {},
   "source": [
    "Στη συνέχεια θα μοιράσουμε τα δεδομένα σε σύνολο εκπαίδευσης (data_train,label_train) και σε σύνολο ελέγχου (data_test,label_test). Το σύνολο εκπαίδευσης θα έχει 60 % των δεδομένων ενώ το σύνολο ελέγχου το 40%. Επίσης , επιλέγουμε για αρχή το seed για τον τρόπο που γίνεται ο διαμοιρασμός ίσο με 28. Έγινε δοκιμή πολλών seed και τα παρακάτω αποτελέσματα ως προς την αποδοτικότητα των ταξινομητών δεν διέφεραν σημαντικά."
   ]
  },
  {
   "cell_type": "code",
   "execution_count": 83,
   "id": "35b2f61f-bf97-4b55-8ae4-273041339143",
   "metadata": {},
   "outputs": [
    {
     "name": "stdout",
     "output_type": "stream",
     "text": [
      "size of training_data: 60000\n",
      "size of testing_data: 40000\n"
     ]
    }
   ],
   "source": [
    "data_train, data_test, label_train, label_test = train_test_split(sdss_data, \n",
    "                                                    label_sdss, \n",
    "                                                    test_size=0.4, # 40% test, 60% train\n",
    "                                                    random_state=28) \n",
    "print(f\"size of training_data: {len(data_train)}\")\n",
    "print(f\"size of testing_data: {len(data_test)}\")\n",
    "data_train=torch.tensor(data_train)\n",
    "data_test=torch.tensor(data_test)\n",
    "label_train=torch.tensor(label_train)\n",
    "label_test=torch.tensor(label_test)\n"
   ]
  },
  {
   "cell_type": "code",
   "execution_count": 84,
   "id": "eac88884",
   "metadata": {},
   "outputs": [
    {
     "name": "stdout",
     "output_type": "stream",
     "text": [
      "Classification algorithms that were implemented:\n",
      "Accuracy of Nearest-Neighbour k=1 classification: 94.07%\n",
      "Accuracy of Nearest Neighbour k=3 classification: 94.94%\n",
      "Accuracy of Nearest Centroid classification: 56.69%\n"
     ]
    }
   ],
   "source": [
    "print(\"Classification algorithms that were implemented:\")\n",
    "my_classification_algorithms(device,data_train,data_test,label_train,label_test)"
   ]
  },
  {
   "cell_type": "markdown",
   "id": "d4cdd659",
   "metadata": {},
   "source": [
    "Βλέπουμε ότι τα ποσοστά επιτυχίας της ταξινόμησης με χρήση του Nearest Neighbour για k=1 και k=3 (άνω του 90 %) και ενώ ο Nearest Centroid εξακολουθεί να υπολείπεται αυτών τώρα ξεπερνάει το 50 % επιτυχούς ταξινόμησης.\n",
    "\n",
    "Η αυξήση του ποσοστού επιτυχίας των αλγορίθμων από το cifar-10 στο sdss2017 οφείλεται στο οτι το sdss database πρώτον έχει μικρότερο αριθμό κλάσεων στους οποίους πραγματοποιείται η ταξινόμηση (3 αντί για 10 προηγουμένως) καθώς και ότι τα features είναι πολύ λιγότερα και φέρουν σημαντικότερη ποσότητα πληροφορίας για την κλάση από οτι φέρανε τα 3072 γνωρίσματα της αρχικής εικόνας ή οι 50 κύριες συνιστώσες που προέκυψαν μετά το pca. Επίσης το γεγονός ότι τα data εδώ ήταν στην πλειονότητα γαλαξίες 60 % ίσως προμηνύει ότι ο ταξινόμητης ευνοιεί τα testing data που περιέχουν μεγάλο πλήθος  \n",
    "\n"
   ]
  },
  {
   "cell_type": "markdown",
   "id": "7ede8b82",
   "metadata": {},
   "source": [
    "Παρατείθεται και η απόδοση που δίνουν οι αλγόριθμοι της sklearn:"
   ]
  },
  {
   "cell_type": "code",
   "execution_count": 85,
   "id": "cd9fde7c",
   "metadata": {},
   "outputs": [
    {
     "name": "stdout",
     "output_type": "stream",
     "text": [
      "Classification algorithms of sklearn:\n",
      "Accuracy of Nearest-Neighbour k=1 classification:  94.07%\n",
      "Accuracy of Nearest-Neighbour k=3 classification:  94.94%\n",
      "Accuracy of Nearest Centorid classification:  56.69%\n"
     ]
    }
   ],
   "source": [
    "print(\"Classification algorithms of sklearn:\")\n",
    "sklearn_classifiers(data_train.numpy(),data_test.numpy(),label_train.numpy(),label_test.numpy())"
   ]
  },
  {
   "cell_type": "markdown",
   "id": "b7a49c51",
   "metadata": {},
   "source": [
    "Θα δοκιμάσουμε να αλλάξουμε τα σύνολα διαίρεσης του συνολικού dataset σε 30% test και 70 % training καθώς και θα βάλουμε το seed=10"
   ]
  },
  {
   "cell_type": "code",
   "execution_count": 86,
   "id": "0966d7ee",
   "metadata": {},
   "outputs": [
    {
     "name": "stdout",
     "output_type": "stream",
     "text": [
      "size of training_data: 70000\n",
      "size of testing_data: 30000\n"
     ]
    }
   ],
   "source": [
    "data_train, data_test, label_train, label_test = train_test_split(sdss_data, \n",
    "                                                    label_sdss, \n",
    "                                                    test_size=0.3, # 40% test, 60% train\n",
    "                                                    random_state=10) \n",
    "\n",
    "print(f\"size of training_data: {len(data_train)}\")\n",
    "print(f\"size of testing_data: {len(data_test)}\")\n",
    "data_train=torch.tensor(data_train)\n",
    "data_test=torch.tensor(data_test)\n",
    "label_train=torch.tensor(label_train)\n",
    "label_test=torch.tensor(label_test)"
   ]
  },
  {
   "cell_type": "code",
   "execution_count": 87,
   "id": "02cac162",
   "metadata": {},
   "outputs": [
    {
     "name": "stdout",
     "output_type": "stream",
     "text": [
      "Classification algorithms that were implemented:\n",
      "Accuracy of Nearest-Neighbour k=1 classification: 94.17%\n",
      "Accuracy of Nearest Neighbour k=3 classification: 95.06%\n",
      "Accuracy of Nearest Centroid classification: 56.65%\n"
     ]
    }
   ],
   "source": [
    "print(\"Classification algorithms that were implemented:\")\n",
    "my_classification_algorithms(device,data_train,data_test,label_train,label_test)"
   ]
  },
  {
   "cell_type": "markdown",
   "id": "89e4bc0d",
   "metadata": {},
   "source": [
    "Τα ποσοστά της επιτυχίας είναι αντίστοιχα με τα προηγούμενα. Όσο και να αλλάξουμε το ποσοστό του test set στο 20-40 % των συνολικών δεδομένων καθώς και τo seed με το οποίο γίνεται ο διαμοιρασμός των δεδομένων στα δύο σύνολα τα ποσοστά παραμένουν σχετικά αμετάβλητα.\n",
    "\n",
    "Συνεπώς, το συγκεκριμένο dataset εμφανίζει υψηλό ποσοστό επιτυχίας ως προς την ταξινόμηση με την εφαρμογή των αλγορίθμων πλησιέστερου γείτονα (με 1 και 3 πλησιέστερους γείτονες) ενώ η απόδοση του πλησιέστερου κέντρου εξακολουθεί να είναι σημαντικά μικρότερη από του πλησιέστερου γείτονα ακριβώς γιατί ο αλγόριθμος πλησιέστερου γείτονα μπορεί να βρεί αντιστοιχίσει ένα δεδομένο ελέγχου μιας κλάσης σε πολύ κοντινά δεδομένα εκπαίδευσης που αντιστοιχούν στην ίδια κλάση ενώ ο πλησιέστερου κέντρου λόγω πιθανής διαφοράς στην διασπορά των δεδομένων μπορεί να οδηγήσει δεδομένα μιας κλάσης να είναι πιο κοντά στο κέντρο μιας άλλης κλάσης από ότι στο δικό τους κέντρο.\n",
    "\n",
    "Τελός θα επιχειρήσουμε να κανονικοποιήσουμε και τα δεδομένα δηλαδή να αφαιρέσουμε την μέση τιμή τους να τα διαρέσουμε με την τυπική απόκλιση τους ώστε να δούμε άμα αυτο βοηθάει την διαδικασία της ταξινόμησης.\n",
    "\n"
   ]
  },
  {
   "cell_type": "code",
   "execution_count": 90,
   "id": "c8897e24",
   "metadata": {},
   "outputs": [
    {
     "name": "stdout",
     "output_type": "stream",
     "text": [
      "Classification algorithms that were implemented:\n",
      "Accuracy of Nearest-Neighbour k=1 classification: 95.48%\n",
      "Accuracy of Nearest Neighbour k=3 classification: 96.33%\n",
      "Accuracy of Nearest Centroid classification: 60.68%\n"
     ]
    }
   ],
   "source": [
    "data_train, data_test, label_train, label_test = train_test_split(sdss_data, \n",
    "                                                    label_sdss, \n",
    "                                                    test_size=0.4, # 40% test, 60% train\n",
    "                                                    random_state=28) \n",
    "\n",
    "mean_train = np.mean(data_train, axis=0)\n",
    "std_dev_train = np.std(data_train, axis=0)\n",
    "\n",
    "# Normalize data both train and test set by the statistics of the training set\n",
    "data_train = (data_train - mean_train) / std_dev_train\n",
    "data_test=(data_test - mean_train) / std_dev_train\n",
    "data_train=torch.tensor(data_train)\n",
    "data_test=torch.tensor(data_test)\n",
    "label_train=torch.tensor(label_train)\n",
    "label_test=torch.tensor(label_test)\n",
    "\n",
    "print(\"Classification algorithms that were implemented:\")\n",
    "my_classification_algorithms(device,data_train,data_test,label_train,label_test)"
   ]
  },
  {
   "cell_type": "markdown",
   "id": "fd8ec3a4",
   "metadata": {},
   "source": [
    "Τα ποσοστά επιτυχίας πλησιέστερου γείτονα είναι παρόμοια με πρίν ενώ το ποσοστό επιτυχίας πλησιέστερου κέντρου αυξήθηκε λίγο ενδεχομένως από την κανονικοποιήση των δεδομένων."
   ]
  }
 ],
 "metadata": {
  "kernelspec": {
   "display_name": "Python 3",
   "language": "python",
   "name": "python3"
  },
  "language_info": {
   "codemirror_mode": {
    "name": "ipython",
    "version": 3
   },
   "file_extension": ".py",
   "mimetype": "text/x-python",
   "name": "python",
   "nbconvert_exporter": "python",
   "pygments_lexer": "ipython3",
   "version": "3.10.11"
  }
 },
 "nbformat": 4,
 "nbformat_minor": 5
}
